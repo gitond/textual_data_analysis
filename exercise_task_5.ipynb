{
 "cells": [
  {
   "cell_type": "markdown",
   "metadata": {},
   "source": [
    "Submission for<br>\n",
    "Exercise task 5<br>\n",
    "of UTU course TKO_8964-3006<br>\n",
    "Textual Data Analysis<br>\n",
    "by Botond Ortutay<br>"
   ]
  },
  {
   "cell_type": "markdown",
   "metadata": {},
   "source": [
    "---"
   ]
  },
  {
   "cell_type": "markdown",
   "metadata": {},
   "source": [
    "**Instructions:**\n",
    "\n",
    "NER inference using a sequence labeling model\n",
    "\n",
    "In this exercise, your task is to extract named entities from the Finnish/English news data collection using fine-tuned sequence labeling model, investigate its predictions, and calculate simple NE statistics.\n",
    "\n",
    "The Finnish/English news data collection is available here: http://dl.turkunlp.org/TKO_8964_2023/news-*.jsonl.\n",
    "\n",
    "If you do the exercise using Finnish data, the suggested fine-tuned model is https://huggingface.co/Kansallisarkisto/finbert-ner. For English, there are many options, but e.g. https://huggingface.co/dslim/bert-base-NER is a reasonable choice.\n",
    "\n",
    "The specific tasks are:\n",
    "\n",
    "1) Read the model page to figure out which datasets were used to train the model, and which entities the model includes.\n",
    "\n",
    "2) Run inference on the news data, and verify whether the model produces invalid label sequences (hint: it does if you run on some amount of data). Here you do not need to take into account subwords to tokens -mapping, but you can directly check the label sequence of subwords (raw predictions). Print statistics for the most common invalid transitions. Hint: If you run the inference using pipeline, it may hide some of the predictions from you. Set the pipeline parameters so that you get access to raw predictions.\n",
    "\n",
    "3) Read about the ´aggregation_strategy´ parameter for token classification pipelines (sometimes source code is the best place to get information...). Based on your reading, select a suitable parameter (or in case you run the inference without using pipelines, write a simple function to implement some simple aggregation strategy), run the inference, and collect predicted named entities. What is the most common entity type in your data and what are the most common entities?\n",
    "\n",
    "It's totally fine to downsample the data, e.g. 50 documents is more than enough and can be easily done on CPU. With GPU runtime, one can run substantial amount of data."
   ]
  },
  {
   "cell_type": "markdown",
   "metadata": {},
   "source": [
    "---"
   ]
  },
  {
   "cell_type": "markdown",
   "metadata": {},
   "source": [
    "**Library & environment tomfoolery:**"
   ]
  },
  {
   "cell_type": "markdown",
   "metadata": {},
   "source": [
    "<mark>**NOTE:**</mark> We assume that whoever runs this has `jsonl` installed in his/her python environment which is kind of a rare library.<br> (Installation: `pip3 install py-jsonl`)"
   ]
  },
  {
   "cell_type": "code",
   "execution_count": 1,
   "metadata": {},
   "outputs": [
    {
     "name": "stderr",
     "output_type": "stream",
     "text": [
      "2025-02-04 23:30:30.987436: E external/local_xla/xla/stream_executor/cuda/cuda_fft.cc:477] Unable to register cuFFT factory: Attempting to register factory for plugin cuFFT when one has already been registered\n",
      "WARNING: All log messages before absl::InitializeLog() is called are written to STDERR\n",
      "E0000 00:00:1738704631.004981  129249 cuda_dnn.cc:8310] Unable to register cuDNN factory: Attempting to register factory for plugin cuDNN when one has already been registered\n",
      "E0000 00:00:1738704631.010582  129249 cuda_blas.cc:1418] Unable to register cuBLAS factory: Attempting to register factory for plugin cuBLAS when one has already been registered\n",
      "2025-02-04 23:30:31.027429: I tensorflow/core/platform/cpu_feature_guard.cc:210] This TensorFlow binary is optimized to use available CPU instructions in performance-critical operations.\n",
      "To enable the following instructions: AVX2 FMA, in other operations, rebuild TensorFlow with the appropriate compiler flags.\n"
     ]
    },
    {
     "name": "stdout",
     "output_type": "stream",
     "text": [
      "True\n"
     ]
    }
   ],
   "source": [
    "# Libraries\n",
    "import copy                         # For deep copying\n",
    "import jsonl                        # For loading & handling jsonl files\n",
    "import random                       # For random prints\n",
    "import torch                        # For GPU compatibility\n",
    "from transformers import AutoTokenizer, AutoModelForTokenClassification\n",
    "from transformers import pipeline\n",
    "\n",
    "# checking GPU availability\n",
    "print(torch.cuda.is_available())    # should output True"
   ]
  },
  {
   "cell_type": "markdown",
   "metadata": {},
   "source": [
    "**Downloading, exploring & importing data:**"
   ]
  },
  {
   "cell_type": "markdown",
   "metadata": {},
   "source": [
    "Downloading (using command line tools):"
   ]
  },
  {
   "cell_type": "code",
   "execution_count": 2,
   "metadata": {},
   "outputs": [
    {
     "name": "stdout",
     "output_type": "stream",
     "text": [
      "Downloading data from TurkuNLP\n",
      "\n",
      "\n",
      "\n",
      "\u001b7\u001b[1A\u001b[1G\u001b[27G[Files: 0  Bytes: 0  [0 B/s] Re]\u001b8\u001b7\u001b[2A\u001b[1G\u001b[27G[http://dl.turkunlp.org/TKO_896]\u001b8\u001b7\u001b[1S\u001b[3A\u001b[1G\u001b[0JSaving 'news-en-2021.jsonl'\n",
      "\u001b8\u001b7\u001b[2A\u001b[1Gnews-en-2021.jsonl   100% [=============================>]    3.22M    --.-KB/s\u001b8\u001b7\u001b[1S\u001b[3A\u001b[1G\u001b[0JHTTP response 200 OK [http://dl.turkunlp.org/TKO_8964_2023/news-en-2021.jsonl]\n",
      "\u001b8\u001b7\u001b[2A\u001b[1Gnews-en-2021.jsonl   100% [=============================>]    3.22M    --.-KB/s\u001b8\u001b7\u001b[1A\u001b[1G\u001b[27G[Files: 1  Bytes: 3.22M [5.21MB]\u001b8\u001b[m\u001b[m\u001b[m\u001b[m\n",
      "Printing all files in current directory to check data has downloaded\n",
      "\n",
      "empty.ipynb\t      exercise_task_3.ipynb  news-en-2021.jsonl\n",
      "exercise_task_2.md    exercise_task_3.pdf    short_en_data.txt.utf-8\n",
      "exercise_task_2.pdf   exercise_task_5.ipynb\n",
      "exercise_task_3.html  fin_data.txt.utf-8\n"
     ]
    }
   ],
   "source": [
    "#NOTE: bash code here\n",
    "!echo Downloading data from TurkuNLP\n",
    "!echo\n",
    "!wget http://dl.turkunlp.org/TKO_8964_2023/news-en-2021.jsonl\n",
    "!echo\n",
    "!echo Printing all files in current directory to check data has downloaded\n",
    "!echo\n",
    "!ls"
   ]
  },
  {
   "cell_type": "markdown",
   "metadata": {},
   "source": [
    "Exploring dataset to get a better idea of what we're dealing with (using command line tools):"
   ]
  },
  {
   "cell_type": "code",
   "execution_count": 3,
   "metadata": {},
   "outputs": [
    {
     "name": "stdout",
     "output_type": "stream",
     "text": [
      "A random json object from \"news-en-2021.jsonl\":\n",
      "{\"summary\": \"Despite an increase in Covid hospitalisations, Helsingin Sanomat finds no backing among key MPs for vaccination mandates in Finland.\", \"tags\": [\"Kotimaan uutiset\"], \"text\": \"The Helsinki tabloid  Ilta-Sanomat looks at the latest figures  for Covid hospitalisations in Finland, pointing out that at a Thursday press conference,  Pasi Pohjola  of the Ministry of Social Affairs and Health said that non-vaccinated people accounted for 74 percent of coronavirus patients receiving hospital care in September. \\n \\\"The epidemic situation has clearly deteriorated, affecting, of course, the unvaccinated population and, to some extent, those who are only protected by one dose. This raises questions about what measures can be taken to reverse the situation,\\\" Pohjola said. \\n Over the past two weeks, according to the National Institute for Health and Welfare (THL), unvaccinated 12-79-year-olds have been hospitalised 14 times more often than people in the same age group who have had two doses of a coronavirus vaccine. \\n Last week, 22 new Covid patients were rushed to intensive care, IS noted. Pohjola estimated that nationwide, Finland has the capacity to provide about 50 intensive care units for coronavirus patients. Once that critical point is exceeded, a lack of hospital resources would begin to be reflected in other medical treatments requiring intensive care, he added. \\n IS further writes that Helsinki University Hospital Chief Physician  Asko Järvinen  told the paper earlier this week that he does not yet know of a single fully vaccinated person who has been  treated in an intensive care unit  in his hospital. \\n \\\"No\\\" to vaccination mandate \\n Finland's largest circulation daily,  Helsingin Sanomat , reports that even with an upswing in infections and the slowing pace of vaccination uptake, the nation's main political parties are not in favour of  reimposing restrictions . \\n HS asked MPs from the six largest parliamentary parties what measures should be taken to deal with the worsening situation. \\n The paper posed the question of what should be done to ensure that citizens who are hesitant and critical of vaccines also take two doses of a coronavirus vaccine. \\n Antti Lindtman , chair of the SDP's parliamentary group: \\\"More measures are needed to keep the vaccination threshold as low as possible, more walk-in points and vaccine buses are needed. Enhanced, targeted information is needed for groups and areas where vaccination coverage is still low.\\\" \\n Ville Tavio ,  c hair of the Finns Party's parliamentary group: \\\"No action is needed. It is a voluntary choice for every adult whether or not to take the vaccine. News about the coronavirus has been reported every day of the year, so I find it quite unlikely that anyone does not know that vaccination is recommended.\\\" \\n National Coalition MP  Mia Laiho : \\\"Vaccinations must be available, at a low threshold in places where people move about. This needs to be intensified. It is important to provide information about the benefits, but also the side effects of the vaccines, so that there is a wider understanding of how few side effects there are in relation to the number of people vaccinated in the world.\\\" \\n Juha Pylväs , chair of the Centre Party's parliamentary group: \\\"We need to educate people more about vaccines and make vaccination as easy as possible. Add pop-up points where you can get vaccines constantly and easily.\\\" \\n Emma Kari , chair of the Greens parliamentary group: \\\"There is a need for more encouragement and imaginative campaigns to get unvaccinated people to take the jabs. The dissemination of false information must be addressed.\\\" \\n Jussi Saramo , chair of the parliamentary group of the Left Alliance: \\\"Raising awareness is the most important thing, because there is so much misinformation circulating.\\\" \\n Should compulsory vaccination be introduced? \\n SDP’s Lindtman: \\\"Coercion wouldn't work in this situation. I am afraid that it would change attitudes towards vaccines.\\\" \\n Tavio of the Finns Party: \\\"It is not necessary.\\\" \\n NCP's Laiho: \\\"As a matter of principle, the National Coalition Party does not support mandated vaccinations, but it is necessary to assess whether vaccinations could be required for those in jobs working with people at risk.\\\" \\n Centre Party's Pylväs: \\\"The Centre has a negative attitude towards compulsory vaccinations.\\\" \\n Greens' Kari: \\\"We want to trust that people want to take care of each other and take the vaccines. I would not move towards forced vaccination.\\\" \\n Left Alliance's Saramo: \\\" I do not support mandated vaccination.\\\" \\n Climate demos to continue \\n \\\"We do not do it because we think it's fun, but because we have to,\\\" Elokapina climate activist spokesperson  Kaisamaija Uljas  told the Swedish-language daily  Hufvudstadsbladet  when asked about the recent protests blocking traffic in the capital. \\n A protest by the group -- which is the the Finnish branch of the environmental group Extinction Rebellion -- on Wednesday,  blocked traffic for several hours on a bridge  near the city centre. The action came without warning. \\n \\\"It was quite spontaneous. We did not want the police to get there before us, so that we could block the road properly and reach out with our message to more people,\\\" Uljas explained. \\n Hufvudstadsbladet writes that this week the movement sent out invitations to a number of politicians asking them to meet for discussions on climate issues. \\n None of those invited came. \\n This week's episode of All Points North asked if Finland afford not to act on climate change. You can listen to the full podcast using the embedded player here, via Yle Areena, Spotify or Apple Podcasts or on your usual podcast player using the RSS feed. Paper review continues after audio. \\n \\\"Unfortunately, our message has not been received the way we wanted. That is why we must continue to protest,\\\" Uljas told the paper, adding that Elokapina has plans for more actions like the protest closing the bridge in Helsinki on Wednesday. \\n While she did not provide details to Hufvudstadsbladet, when asked if similar protests will be seen on Friday or over the weekend, Uljas replied, \\\"Yes, we can promise that.\\\" \\n A total of 123 people were arrested in connection with Elokapina's protest on Wednesday. Hufvudstadsbladet reports that about 1,000 people say they are active participants in the protest movement. \\n Firewood vending machines \\n The  Oulu-based Kaleva  tells readers the tale of how  Valto Vaaraniemi , a project worker at the Centre for Sustainable Development, came up against a not uncommon problem when stopping at a camp site while canoeing on the Äkäsjoki river. \\n \\\"We were all wet and found that there was no firewood at the campfire site at all. It was cold and we would have liked to roast some sausages. At that moment, we thought that we would have been willing to pay for some wood,\\\" Vaaraniemi recalls. \\n At first it was a joke, the idea of a firewood vending machine at campsites. Soon after, however, the matter was under serious design planning at the Centre for Sustainable Development, and the City of Oulu gave a green light to the proposal. \\n Last winter, the hardware was created, and Oulu University of Applied Sciences student  Juho Kettunen  devoted his thesis to designing the software to run it. \\n The first public firewood vending machine was installed at a camping site in Oulu this week. The site previously had supplies of wood on hand for campers, but they tended to get stolen as soon as they were delivered. \\n Purchases are made by mobile phone, entering the vending machine code and choosing a payment method, causing a door to pop open revealing a stack of firewood. \\n A large \\\"armful\\\" of ready firewood costs 3.95 euros. The vending machine has 30 hatches, and the device notifies the Centre for Sustainable Development when the wood starts running low. \\n The plan is now to test the machine to see how well it functions during the cold winter months, and if a success, to install them at more sites in and around Oulu.\", \"timestamp\": \"2021-10-08T07:37:57\", \"title\": \"Friday's papers: Covid upswing, climate protests and a firewood vending machine\", \"url\": \"https://yle.fi/uutiset/12134305\"}\n",
      "\n",
      "---\n",
      "\n",
      "Amount of json objects (lines) in \"news-en-2021.jsonl\":\n",
      "1059\n"
     ]
    }
   ],
   "source": [
    "#NOTE: bash code here\n",
    "# Printing a random sample from the dataset to look what kind of data is there\n",
    "!echo A random json object from \\\"news-en-2021.jsonl\\\":\n",
    "!shuf -n 1 news-en-2021.jsonl\n",
    "!echo\n",
    "!echo ---\n",
    "!echo\n",
    "# Determining amount of json objects in news-en-2021.jsonl\n",
    "!echo Amount of json objects \\(lines\\) in \\\"news-en-2021.jsonl\\\":\n",
    "!<news-en-2021.jsonl wc -l "
   ]
  },
  {
   "cell_type": "markdown",
   "metadata": {},
   "source": [
    "Importing to Python:"
   ]
  },
  {
   "cell_type": "code",
   "execution_count": 4,
   "metadata": {},
   "outputs": [
    {
     "name": "stdout",
     "output_type": "stream",
     "text": [
      "{'summary': 'The decisions follow a meeting of government ministers at the House of the Estates on Thursday afternoon.', 'tags': ['Kotimaan uutiset'], 'text': 'Finland\\'s government is pushing ahead with plans to introduce a Covid pass, following a meeting of ministers at the House of the Estates in Helsinki on Thursday afternoon. \\n \"There are still many open questions that need to be answered. At this point, it is impossible to promise that the pass will come or when it will come,\" Prime Minister  Sanna Marin  (SDP) told the media following the conclusion of the meeting. \\n \"The government has given the green light to the Covid pass and preparations will continue,\" Marin added. \\n Minister of Economic Affairs  Mika Lintilä  (Cen) told reporters immediately after the meeting that there was broad agreement between the coalition parties over the need for the certificate. \\n \"It [the pass] is an important tool so that we will not need restrictions any more,\" Lintilä said. \\n The government also decided at Thursday afternoon\\'s meeting to offer coronavirus vaccines to all 12- to 15-year-olds, starting as early as next week. \\n \"Fortunately, we have received an extra batch of approximately 200,000 doses of vaccine in Finland, from which these vaccinations [for 12- to 15-year-olds] can be started without interfering with other vaccination programmes,\" Marin told Yle\\'s A-studio on Wednesday evening. \\n Restrictions for bars, restaurants in spreading regions \\n Furthermore, the government will reintroduce restrictions on the opening hours and operations of bars and restaurants due to the deteriorating coronavirus situation in regions considered to be in the spreading — or most serious — phase of the epidemic. \\n This means that bars and restaurants in the regions of Southwest Finland, Pirkanmaa and Kymenlaakso, as well as the Helsinki metropolitan area, will have to adapt to new regulations that are due to take effect from Sunday. \\n The measures include the opening hours of bars being limited to between 7am and 10pm, while restaurants can stay open one hour later. A ban on karaoke and dancing indoors has also been reintroduced. \\n There will be no changes to the opening hours of bars or restaurants in regions considered to be in the acceleration phase of the pandemic. \\n Changes to external border traffic \\n The government has also decided to make changes to the restrictions on Finland\\'s external border traffic, according to the Ministry of the Interior. External border traffic refers to traffic between Finland and countries not belonging to the Schengen area. \\n The regulations currently in effect will be amended, beginning from 9 August, so that entry restrictions are removed for Ukrainian residents traveling to Finland from Ukraine. \\n Restrictions on entry will be restored for residents of Azerbaijan, South Korea, Japan, Moldova, Serbia and Singapore travelling from these countries to Finland. \\n If a person arriving from the above-mentioned countries has not received a full series of vaccinations, the permitted entry criteria are a resident returning to Finland or other EU or Schengen countries, transit of regular scheduled flight traffic at the airport, or other essential reasons. \\n A person can travel to Finland from any country by presenting an acceptable certificate of the full vaccination series. \\n These new regulations aside, the restrictions that entered into force on 19 July still apply. \\n The latest restrictions are in effect until 22 August. \\n Protesters demand \"same rules for all\" \\n A small but vocal group of protestors, representing cultural sector workers, gathered near the House of the Estates while the government meeting was ongoing to demonstrate against coronavirus restrictions, demanding a fairer distribution of measures. \\n Restrictions have hit especially hard on the cultural and event industry, with many workers in the sector unable to work for the past year and a half. At the same time, the protestors pointed out, shopping malls have been allowed to operate as normal. \\n \"Same rules for all,\" the protesters chanted.', 'timestamp': '2021-08-05T14:58:29', 'title': 'Government opens vaccinations for 12-15-year-olds, gives green light to Covid pass', 'url': 'https://yle.fi/uutiset/12048911'}\n"
     ]
    }
   ],
   "source": [
    "newsEnIterator = jsonl.load(\"news-en-2021.jsonl\")\n",
    "\"\"\"\n",
    "    newsEnIterator now contains:\n",
    "    a generator object (https://wiki.python.org/moin/Generators)\n",
    "\n",
    "    basically what you need to be aware of to understand the rest of this code:\n",
    "    a jsonl file has several json objects in a single file.\n",
    "    the file news-en-2021.jsonl specifically has 1059 json objects (see wc -l output above)\n",
    "    basically newsEnIterator allows us to iterate through all the json objects in news-en-2021.jsonl one by one\n",
    "    this is similar to how iterators work in C++ (https://www.w3schools.com/cpp/cpp_iterators.asp)\n",
    "    (I'm comparing this to that because I've worked a bunch with C++ iterators in the past)\n",
    "    So basically: when calling next(newsEnIterator) the pointer gets moved forward\n",
    "    this is doable 1059 times until we run out of data\n",
    "    when we run out of data we get the \"StopIteration\" error\n",
    "    to print the next value simply do print(next(newsEnIterator)) \n",
    "    to demonstrate how this works I'll print the very first json object with Python and with Bash\n",
    "    afterwards I'll have to reload the jsonfile, because (to my knowledge) there is no way to move the iterator backwards, (no backwards poiner)\n",
    "\"\"\"\n",
    "print(next(newsEnIterator))                          # printing first json object in Python\n",
    "newsEnIterator = jsonl.load(\"news-en-2021.jsonl\")    # reloading jsonfile"
   ]
  },
  {
   "cell_type": "code",
   "execution_count": 5,
   "metadata": {},
   "outputs": [
    {
     "name": "stdout",
     "output_type": "stream",
     "text": [
      "{\"summary\": \"The decisions follow a meeting of government ministers at the House of the Estates on Thursday afternoon.\", \"tags\": [\"Kotimaan uutiset\"], \"text\": \"Finland's government is pushing ahead with plans to introduce a Covid pass, following a meeting of ministers at the House of the Estates in Helsinki on Thursday afternoon. \\n \\\"There are still many open questions that need to be answered. At this point, it is impossible to promise that the pass will come or when it will come,\\\" Prime Minister  Sanna Marin  (SDP) told the media following the conclusion of the meeting. \\n \\\"The government has given the green light to the Covid pass and preparations will continue,\\\" Marin added. \\n Minister of Economic Affairs  Mika Lintilä  (Cen) told reporters immediately after the meeting that there was broad agreement between the coalition parties over the need for the certificate. \\n \\\"It [the pass] is an important tool so that we will not need restrictions any more,\\\" Lintilä said. \\n The government also decided at Thursday afternoon's meeting to offer coronavirus vaccines to all 12- to 15-year-olds, starting as early as next week. \\n \\\"Fortunately, we have received an extra batch of approximately 200,000 doses of vaccine in Finland, from which these vaccinations [for 12- to 15-year-olds] can be started without interfering with other vaccination programmes,\\\" Marin told Yle's A-studio on Wednesday evening. \\n Restrictions for bars, restaurants in spreading regions \\n Furthermore, the government will reintroduce restrictions on the opening hours and operations of bars and restaurants due to the deteriorating coronavirus situation in regions considered to be in the spreading — or most serious — phase of the epidemic. \\n This means that bars and restaurants in the regions of Southwest Finland, Pirkanmaa and Kymenlaakso, as well as the Helsinki metropolitan area, will have to adapt to new regulations that are due to take effect from Sunday. \\n The measures include the opening hours of bars being limited to between 7am and 10pm, while restaurants can stay open one hour later. A ban on karaoke and dancing indoors has also been reintroduced. \\n There will be no changes to the opening hours of bars or restaurants in regions considered to be in the acceleration phase of the pandemic. \\n Changes to external border traffic \\n The government has also decided to make changes to the restrictions on Finland's external border traffic, according to the Ministry of the Interior. External border traffic refers to traffic between Finland and countries not belonging to the Schengen area. \\n The regulations currently in effect will be amended, beginning from 9 August, so that entry restrictions are removed for Ukrainian residents traveling to Finland from Ukraine. \\n Restrictions on entry will be restored for residents of Azerbaijan, South Korea, Japan, Moldova, Serbia and Singapore travelling from these countries to Finland. \\n If a person arriving from the above-mentioned countries has not received a full series of vaccinations, the permitted entry criteria are a resident returning to Finland or other EU or Schengen countries, transit of regular scheduled flight traffic at the airport, or other essential reasons. \\n A person can travel to Finland from any country by presenting an acceptable certificate of the full vaccination series. \\n These new regulations aside, the restrictions that entered into force on 19 July still apply. \\n The latest restrictions are in effect until 22 August. \\n Protesters demand \\\"same rules for all\\\" \\n A small but vocal group of protestors, representing cultural sector workers, gathered near the House of the Estates while the government meeting was ongoing to demonstrate against coronavirus restrictions, demanding a fairer distribution of measures. \\n Restrictions have hit especially hard on the cultural and event industry, with many workers in the sector unable to work for the past year and a half. At the same time, the protestors pointed out, shopping malls have been allowed to operate as normal. \\n \\\"Same rules for all,\\\" the protesters chanted.\", \"timestamp\": \"2021-08-05T14:58:29\", \"title\": \"Government opens vaccinations for 12-15-year-olds, gives green light to Covid pass\", \"url\": \"https://yle.fi/uutiset/12048911\"}\n"
     ]
    }
   ],
   "source": [
    "#NOTE: bash code here\n",
    "# Using bash to print the first json object\n",
    "!head -1 news-en-2021.jsonl"
   ]
  },
  {
   "cell_type": "markdown",
   "metadata": {},
   "source": [
    "As one can see both methods accessed the same json object. Thus I have demonstrated the jsonl library and its very oldschool way of iterating through a jsonl file. I'll use this to loop through the jsonl while performing classifications."
   ]
  },
  {
   "cell_type": "markdown",
   "metadata": {},
   "source": [
    "**Functions:**"
   ]
  },
  {
   "cell_type": "code",
   "execution_count": 6,
   "metadata": {},
   "outputs": [],
   "source": [
    "\"\"\"\n",
    "Runs sentence through pipeline and prints relevant data\n",
    "---\n",
    "In:\n",
    "sentence    str                      sentence run through pipeline\n",
    "pipe        transformers.pipeline    pipeline to run sentence through    tested with \"dslim/bert-base-NER\" (model & tokenizer); not guaranteed to work elsewhere\n",
    "\"\"\"\n",
    "def pipePrint(sentence, pipe):\n",
    "    print(sentence + \":\")\n",
    "    for entity in pipe(sentence):\n",
    "        # entity format with nerPipe: {'entity_group': str, 'score': float, 'index': int, 'word': str, 'start': int, 'end': int}\n",
    "        # Only printing whatever I'm interested in\n",
    "        print(\"Found: \" + entity[\"word\"] + \", category: \" + entity[\"entity_group\"] + \", score:\" \"{:.4f}\".format(entity[\"score\"]))\n",
    "    print()"
   ]
  },
  {
   "cell_type": "markdown",
   "metadata": {},
   "source": [
    "---"
   ]
  },
  {
   "cell_type": "markdown",
   "metadata": {},
   "source": [
    "**Task 1.** Read the model page to figure out which datasets were used to train the model, and which entities the model includes."
   ]
  },
  {
   "cell_type": "markdown",
   "metadata": {},
   "source": [
    "**Written answer:** I am going to use the [base-bert-NER](https://huggingface.co/dslim/bert-base-NER) model and work on the English-language news items, as suggested by the exercise instructions.\n",
    "\n",
    "According to [their huggingface page](https://huggingface.co/dslim/bert-base-NER) the model has been trained on the [CoNLL-2003 Named Entity Recognition](https://aclanthology.org/W03-0419.pdf) dataset and is able to recognize four types of entities: locations (LOC), organizations (ORG), persons (PER), and miscellaneous (MISC)."
   ]
  },
  {
   "cell_type": "markdown",
   "metadata": {},
   "source": [
    "---"
   ]
  },
  {
   "cell_type": "markdown",
   "metadata": {},
   "source": [
    "**Task 2.** Run inference on the news data, and verify whether the model produces invalid label sequences (hint: it does if you run on some amount of data). Here you do not need to take into account subwords to tokens -mapping, but you can directly check the label sequence of subwords (raw predictions). Print statistics for the most common invalid transitions. Hint: If you run the inference using pipeline, it may hide some of the predictions from you. Set the pipeline parameters so that you get access to raw predictions."
   ]
  },
  {
   "cell_type": "code",
   "execution_count": 8,
   "metadata": {},
   "outputs": [
    {
     "name": "stderr",
     "output_type": "stream",
     "text": [
      "Some weights of the model checkpoint at dslim/bert-base-NER were not used when initializing BertForTokenClassification: ['bert.pooler.dense.bias', 'bert.pooler.dense.weight']\n",
      "- This IS expected if you are initializing BertForTokenClassification from the checkpoint of a model trained on another task or with another architecture (e.g. initializing a BertForSequenceClassification model from a BertForPreTraining model).\n",
      "- This IS NOT expected if you are initializing BertForTokenClassification from the checkpoint of a model that you expect to be exactly identical (initializing a BertForSequenceClassification model from a BertForSequenceClassification model).\n",
      "Device set to use cuda:0\n"
     ]
    },
    {
     "name": "stdout",
     "output_type": "stream",
     "text": [
      "\n"
     ]
    }
   ],
   "source": [
    "# At this point the data has already been downloaded at the \"Downloading, importing & exploring data\" -stage\n",
    "# Data accessible via newsEnIterator\n",
    "\n",
    "# Pipeline setup\n",
    "tokenizer = AutoTokenizer.from_pretrained(\"dslim/bert-base-NER\")\n",
    "model = AutoModelForTokenClassification.from_pretrained(\"dslim/bert-base-NER\")\n",
    "\n",
    "nerPipe = pipeline(\"ner\", model, tokenizer=tokenizer, device=0, aggregation_strategy=\"simple\")\n",
    "\"\"\"\n",
    "  device=0 -> use gpu\n",
    "\n",
    "  aggregation_strategy=\"simple\"    This is relevant for task 3!\n",
    "  \n",
    "  output format fot nerPipe(str): {'entity_group': str, 'score': float, 'index': int, 'word': str, 'start': int, 'end': int}\n",
    "\"\"\"\n",
    "print(\"\")"
   ]
  },
  {
   "cell_type": "code",
   "execution_count": 9,
   "metadata": {},
   "outputs": [
    {
     "name": "stdout",
     "output_type": "stream",
     "text": [
      "Maria studies Italian culture at the Columbia University in New York City:\n",
      "Found: Maria, category: PER, score:0.9958\n",
      "Found: Italian, category: MISC, score:0.9997\n",
      "Found: Columbia University, category: ORG, score:0.9979\n",
      "Found: New York City, category: LOC, score:0.9994\n",
      "\n",
      "One of my classmates, Toby, copied this video and sent it to our class's WhatsApp group, claiming he made it himself.:\n",
      "Found: Toby, category: PER, score:0.9990\n",
      "Found: WhatsApp, category: ORG, score:0.9694\n",
      "\n"
     ]
    }
   ],
   "source": [
    "# Testing with a few examples\n",
    "\"\"\"\n",
    "Sentence one = \"Maria studies Italian culture at the Columbia University in New York City\"\n",
    "This includes:\n",
    "LOC: New York City\n",
    "ORG: Columbia University\n",
    "PER: Maria\n",
    "MISC: Italian    \n",
    "\n",
    "(It was very hard to come up with a MISC word, so I looked at the original CoNLL paper (https://aclanthology.org/W03-0419.pdf) and they used this as an example)\n",
    "\"\"\"\n",
    "pipePrint(\"Maria studies Italian culture at the Columbia University in New York City\", nerPipe)\n",
    "\n",
    "\"\"\"\n",
    "Sentence two = \"One of my classmates, Toby, copied this video and sent it to our class's WhatsApp group, claiming he made it himself.\"\n",
    "This includes:\n",
    "PER: Toby\n",
    "    \n",
    "WhatsApp is either ORG or MISC\n",
    "\"\"\"\n",
    "pipePrint(\"One of my classmates, Toby, copied this video and sent it to our class's WhatsApp group, claiming he made it himself.\", nerPipe)"
   ]
  },
  {
   "cell_type": "markdown",
   "metadata": {},
   "source": [
    "At this point my pipeline appears to work and correctly predict everything. Let's test it on the news data."
   ]
  },
  {
   "cell_type": "code",
   "execution_count": 10,
   "metadata": {},
   "outputs": [
    {
     "name": "stderr",
     "output_type": "stream",
     "text": [
      "You seem to be using the pipelines sequentially on GPU. In order to maximize efficiency please use a dataset\n"
     ]
    },
    {
     "name": "stdout",
     "output_type": "stream",
     "text": [
      "Finland's government is pushing ahead with plans to introduce a Covid pass, following a meeting of ministers at the House of the Estates in Helsinki on Thursday afternoon:\n",
      "Found: Finland, category: LOC, score:0.9998\n",
      "Found: Covid, category: MISC, score:0.9104\n",
      "Found: House of the Estates, category: ORG, score:0.9978\n",
      "Found: Helsinki, category: LOC, score:0.9994\n",
      "\n",
      " \n",
      " \"There are still many open questions that need to be answered:\n",
      "\n",
      " At this point, it is impossible to promise that the pass will come or when it will come,\" Prime Minister  Sanna Marin  (SDP) told the media following the conclusion of the meeting:\n",
      "Found: Sanna Marin, category: PER, score:0.8838\n",
      "Found: SDP, category: ORG, score:0.9977\n",
      "\n",
      " \n",
      " \"The government has given the green light to the Covid pass and preparations will continue,\" Marin added:\n",
      "Found: Covid, category: MISC, score:0.8608\n",
      "Found: Marin, category: PER, score:0.9995\n",
      "\n",
      " \n",
      " Minister of Economic Affairs  Mika Lintilä  (Cen) told reporters immediately after the meeting that there was broad agreement between the coalition parties over the need for the certificate:\n",
      "Found: Economic, category: ORG, score:0.6392\n",
      "Found: Mika Lintilä, category: PER, score:0.9744\n",
      "Found: Cen, category: ORG, score:0.9911\n",
      "\n",
      " \n",
      " \"It [the pass] is an important tool so that we will not need restrictions any more,\" Lintilä said:\n",
      "Found: Lintilä, category: PER, score:0.9643\n",
      "\n",
      " \n",
      " The government also decided at Thursday afternoon's meeting to offer coronavirus vaccines to all 12- to 15-year-olds, starting as early as next week:\n",
      "\n",
      " \n",
      " \"Fortunately, we have received an extra batch of approximately 200,000 doses of vaccine in Finland, from which these vaccinations [for 12- to 15-year-olds] can be started without interfering with other vaccination programmes,\" Marin told Yle's A-studio on Wednesday evening:\n",
      "Found: Finland, category: LOC, score:0.9997\n",
      "Found: Marin, category: PER, score:0.9992\n",
      "Found: Yle, category: ORG, score:0.9628\n",
      "Found: A, category: ORG, score:0.6042\n",
      "Found: studio, category: ORG, score:0.5524\n",
      "\n",
      " \n",
      " Restrictions for bars, restaurants in spreading regions \n",
      " Furthermore, the government will reintroduce restrictions on the opening hours and operations of bars and restaurants due to the deteriorating coronavirus situation in regions considered to be in the spreading — or most serious — phase of the epidemic:\n",
      "\n",
      " \n",
      " This means that bars and restaurants in the regions of Southwest Finland, Pirkanmaa and Kymenlaakso, as well as the Helsinki metropolitan area, will have to adapt to new regulations that are due to take effect from Sunday:\n",
      "Found: Southwest Finland, category: LOC, score:0.9933\n",
      "Found: Pirkanmaa, category: LOC, score:0.9429\n",
      "Found: Kymenlaakso, category: LOC, score:0.9922\n",
      "Found: Helsinki, category: LOC, score:0.9994\n",
      "\n",
      " \n",
      " The measures include the opening hours of bars being limited to between 7am and 10pm, while restaurants can stay open one hour later:\n",
      "\n",
      " A ban on karaoke and dancing indoors has also been reintroduced:\n",
      "\n",
      " \n",
      " There will be no changes to the opening hours of bars or restaurants in regions considered to be in the acceleration phase of the pandemic:\n",
      "\n",
      " \n",
      " Changes to external border traffic \n",
      " The government has also decided to make changes to the restrictions on Finland's external border traffic, according to the Ministry of the Interior:\n",
      "Found: Finland, category: LOC, score:0.9998\n",
      "Found: Ministry of the Interior, category: ORG, score:0.9970\n",
      "\n",
      " External border traffic refers to traffic between Finland and countries not belonging to the Schengen area:\n",
      "Found: Finland, category: LOC, score:0.9998\n",
      "Found: Schengen, category: LOC, score:0.8898\n",
      "\n",
      " \n",
      " The regulations currently in effect will be amended, beginning from 9 August, so that entry restrictions are removed for Ukrainian residents traveling to Finland from Ukraine:\n",
      "Found: Ukrainian, category: MISC, score:0.9997\n",
      "Found: Finland, category: LOC, score:0.9998\n",
      "Found: Ukraine, category: LOC, score:0.9998\n",
      "\n",
      " \n",
      " Restrictions on entry will be restored for residents of Azerbaijan, South Korea, Japan, Moldova, Serbia and Singapore travelling from these countries to Finland:\n",
      "Found: Azerbaijan, category: LOC, score:0.9998\n",
      "Found: South Korea, category: LOC, score:0.9994\n",
      "Found: Japan, category: LOC, score:0.9998\n",
      "Found: Moldova, category: LOC, score:0.9998\n",
      "Found: Serbia, category: LOC, score:0.9998\n",
      "Found: Singapore, category: LOC, score:0.9998\n",
      "Found: Finland, category: LOC, score:0.9998\n",
      "\n",
      " \n",
      " If a person arriving from the above-mentioned countries has not received a full series of vaccinations, the permitted entry criteria are a resident returning to Finland or other EU or Schengen countries, transit of regular scheduled flight traffic at the airport, or other essential reasons:\n",
      "Found: Finland, category: LOC, score:0.9996\n",
      "Found: EU, category: ORG, score:0.7852\n",
      "Found: Schengen, category: LOC, score:0.7449\n",
      "\n",
      " \n",
      " A person can travel to Finland from any country by presenting an acceptable certificate of the full vaccination series:\n",
      "Found: Finland, category: LOC, score:0.9998\n",
      "\n",
      " \n",
      " These new regulations aside, the restrictions that entered into force on 19 July still apply:\n",
      "\n",
      " \n",
      " The latest restrictions are in effect until 22 August:\n",
      "\n",
      " \n",
      " Protesters demand \"same rules for all\" \n",
      " A small but vocal group of protestors, representing cultural sector workers, gathered near the House of the Estates while the government meeting was ongoing to demonstrate against coronavirus restrictions, demanding a fairer distribution of measures:\n",
      "Found: House of the Estates, category: ORG, score:0.9854\n",
      "\n",
      " \n",
      " Restrictions have hit especially hard on the cultural and event industry, with many workers in the sector unable to work for the past year and a half:\n",
      "\n",
      " At the same time, the protestors pointed out, shopping malls have been allowed to operate as normal:\n",
      "\n",
      " \n",
      " \"Same rules for all,\" the protesters chanted:\n",
      "\n",
      ":\n",
      "\n"
     ]
    }
   ],
   "source": [
    "newsItem = next(newsEnIterator)[\"text\"]\n",
    "for sentence in newsItem.split(\".\"):\n",
    "    pipePrint(sentence,nerPipe)"
   ]
  },
  {
   "cell_type": "markdown",
   "metadata": {},
   "source": [
    "Having run one single news item through the pipeline and having analyzed the output by hand I made the following observations:<br>\n",
    "<br>\n",
    "Firstly: There are no visible errors at least not of the kind that'd break the system. The instructions asked me to track \"invalid transitions\". I'm not sure what this means or how to collect these, but at least based on this single article it probably won't be by `try -except`...<br>\n",
    "<br>\n",
    "Secondly: there was one weird mistake. It relates to this piece of output:\n",
    "```\n",
    "Minister of Economic Affairs  Mika Lintilä  (Cen) told reporters immediately after the meeting that there was broad agreement between the coalition parties over the need for the certificate:\n",
    "Found: Economic, category: ORG, score:0.6392\n",
    "Found: Mika Lintilä, category: PER, score:0.9744\n",
    "Found: Cen, category: ORG, score:0.9911\n",
    "\n",
    "```\n",
    "Here \"Economic\" is recognized as ORG which it isn't. It is a part of the job title \"Minister of Economic Affairs\". Whether job titles should be recognized as a named entity by a system such as this is a valid question. I found a (non-scientific) [article](https://medium.com/@ziprecruiter.engineering/named-entity-recognition-ner-of-short-unstructured-job-search-queries-6b265ec0fb) where they do NER, and do recognize job titles as named entities, but that NER-application was specifically built for analyzing job seeking queries, so that kind of thing is more relevant there. But even if we decide that job titles count here, then the correct categorization would be: `Minister of Economic Affairs: MISC`. Furthermore then stuff like \"Prime minister\" should also be categorized as MISC, which clearly isn't. So I'll call this a False Positive.<br>\n",
    "&nbsp;&nbsp;&nbsp;&nbsp;&nbsp;&nbsp;&nbsp;&nbsp;&nbsp;&nbsp;&nbsp;&nbsp;&nbsp;&nbsp;&nbsp;&nbsp;\n",
    "However I'm unsure how to spot these kinds of mistakes when analyzing, say all the news from `news-en-2021.jsonl` automatically. One option could always be to look at the confidence score and save let's say everything below 0.80 seperately for analysis by hand, but I decided to not do it here."
   ]
  },
  {
   "cell_type": "markdown",
   "metadata": {},
   "source": [
    "Either way: my pipeline has been shown to work with news items mined from the jsonl no problem. So now: let's run through them all and save the generated results somewhere!"
   ]
  },
  {
   "cell_type": "code",
   "execution_count": 11,
   "metadata": {},
   "outputs": [],
   "source": [
    "newsEnIterator = jsonl.load(\"news-en-2021.jsonl\")           # Iterator reset\n",
    "data = []\n",
    "dataEntry = {\"newsItem\": \"\", \"entities\": []}                # Template for all data\n",
    "\n",
    "\n",
    "while True:                                                 # Until iterator reaches end of data\n",
    "    try:\n",
    "        newsItem = next(newsEnIterator)[\"text\"]             # Iterator forward\n",
    "        \n",
    "        currentEntry = copy.deepcopy(dataEntry)             # New dataentry\n",
    "        \n",
    "        # Performing NER for current news article\n",
    "        minedEntities = []\n",
    "        for sentence in newsItem.split(\".\"):\n",
    "            for entity in nerPipe(sentence):                # Every time an entity is found, save it to mined\n",
    "                entity[\"score\"] = float(entity[\"score\"])    # To get rid of: Type Error: Object of type float32 is not JSON serializable; The original datatype of entity[\"score\"] was numpy.float32\n",
    "                minedEntities.append(entity)\n",
    "        \n",
    "        currentEntry[\"newsItem\"] = newsItem                 # Saving current news item to entry\n",
    "        currentEntry[\"entities\"] = minedEntities            # Saving all entities mined from given news item\n",
    "        \n",
    "        data.append(currentEntry)                           # Saving current entry\n",
    "    except StopIteration:\n",
    "        break"
   ]
  },
  {
   "cell_type": "markdown",
   "metadata": {},
   "source": [
    "Just to examine the results:\n",
    "Let's print a few randomly!"
   ]
  },
  {
   "cell_type": "code",
   "execution_count": 13,
   "metadata": {},
   "outputs": [
    {
     "name": "stdout",
     "output_type": "stream",
     "text": [
      "The Finnish Wildlife Agency has issued four exemptions to a ban on hunting wolves. \n",
      " The decision will allow for the culling of a total of 18 wolves next year and is aimed at regulating the growth of Finland's wolf population, the agency said in a press release on Wednesday. \n",
      " Figures provided by the Natural Resources Institute Finland (Luke) earlier this year revealed that the wolf population had hit  its highest level  for over 100 years. \n",
      " The agency's exemptions will permit the hunting of eight wolves from the Kuhmo Saunajärvi region of eastern Finland and two from the Liminka-Lumijoki area on the western coast, as well as five wolves from the southwestern region of Kauhajoki-Karvia and three from the Somero, Nummi-Pusula and Tammela areas, also in the southwest. \n",
      " Each region has received a separate exemption from the national ban on the hunting of the endangered species. \n",
      " The exemptions will begin on 1 February 2022 and will be valid for 15 days, with each hunting group limited to a maximum of 50 participants, the wildlife agency added.\n",
      "Found: Finnish Wildlife Agency, category: ORG, score:0.9990\n",
      "Found: Finland, category: LOC, score:0.9998\n",
      "Found: Natural Resources Institute Finland, category: ORG, score:0.9990\n",
      "Found: Luke, category: ORG, score:0.9561\n",
      "Found: Kuhmo Saunajärvi, category: LOC, score:0.9580\n",
      "Found: Finland, category: LOC, score:0.9996\n",
      "Found: Liminka, category: LOC, score:0.9666\n",
      "Found: Lumijoki, category: LOC, score:0.8551\n",
      "Found: Kauhajoki, category: LOC, score:0.9527\n",
      "Found: Karvia, category: LOC, score:0.9771\n",
      "Found: Somero, category: LOC, score:0.9791\n",
      "Found: Nummi, category: LOC, score:0.9412\n",
      "Found: Pusula, category: LOC, score:0.9338\n",
      "Found: Tammela, category: LOC, score:0.9918\n",
      "Shortly before Finland evacuated 413 Afghan and Finnish citizens from Kabul  in late August , the Finnish Immigration Service (Migri) announced that it would  suspend deportations  of asylum seekers to Afghanistan. \n",
      " While this came as relief to those who were facing imminent removal to one of the most dangerous places in the world, things are far from settled. Many now face a limbo, uncertain of their status and how long they will be permitted to remain in Finland. \n",
      " While Migri is not actively seeking to remove Afghans from Finland, it is not contacting them to explain the changed circumstances either. This causes stress and uncertainty for people who have fled an unstable and dangerous situation. \n",
      " \"I spend most of my time crying alone\" \n",
      " \"Since August, I spend most of my time crying alone,\" said  Munir , who arrived in Finland in 2015 from Afghanistan’s Ghazni Province. Munir says he fled Afghanistan in 2011 after being targeted by the Taliban for his work with a foreign NGO. \n",
      " \"All of us refugees are worried right now. As things currently stand, Migri could decide to send us back to Afghanistan the second our permits expire. Those of us who have lived under the Taliban already know that the country will not be safe any time soon,\" he told Yle News. \n",
      " Munir received multiple negative decisions from Migri, being granted a temporary residence permit in 2019 that is due to expire next year. He has not been contacted by Migri since deportations were suspended in July. \n",
      " Article continues after photo \n",
      " An Afghan mother and daughter in a Helsinki park. Terhi Liimu / Yle \n",
      " Munir explained that \"everything has changed since the Taliban took over\" and that he fears for himself and for his family. They remain stuck in Kabul, unable to leave since Finland suspended family reunification at the onset of the Covid-19 pandemic. He also describes the uncertainty of his situation and not knowing if he will ever be reunited with his wife as the worst part of his ordeal. \n",
      " \"If the [Finnish] government hates us and does not want us in this country, it would be easier if they just said so. It is so much worse not knowing whether we will be able to build a life here,\" he said. \n",
      " \"This is mental torture\" \n",
      " \"I am just so tired at the moment,\" said  Abdul* , an Afghan asylum seeker in his early twenties who has been in Finland for six years. Despite arriving when he was underage, Abdul has only received negative decisions on multiple asylum applications. His most recent rejection occurred while he was receiving treatment in hospital for a serious illness, despite his doctor writing a letter to Migri requesting that they take his deteriorating health into consideration. \n",
      " \"This whole process has completely worn me down. My mental health is in a terrible state and Migri’s treatment of me is basically mental torture,\" he said. \"I miss my mother, but she is not able to come here.\" \n",
      " Prior to Migri’s decision to suspend deportations in July, more than a third of Afghan asylum seekers had their  applications rejected , with some being sent back as recently as June. Most Afghan asylum seekers were sent to Kabul, as this was one of the only parts of the country designated as sufficiently safe. \n",
      " Abdul says he received a letter from Migri last month informing him that removal proceedings against him had been dropped, but that he has received no further guidance on what to do next. \n",
      " Need for clarity \n",
      " Katja Mannerström , Head of Public Affairs at the Finnish Refugee Council ( Suomen Pakolaisapu ) says that there is a \"huge need\" for greater clarity from the authorities right now, and that those in need are suffering without it. \n",
      " \"All of our phones have been ringing constantly since the Taliban took over,\" explained Mannerström. \"There are a lot of false rumours flying around, since Migri is not proactively contacting people who have had their negative decisions overturned.\" \n",
      " She urged anyone seeking asylum to re-apply if they have recently received a negative decision, in line with Migri's guidance. She also noted that Migri has loosened its criteria for asylum seekers who can apply for a so-called Alien Passport, which makes it easier to open a bank account and apply for jobs and housing in Finland. \n",
      " Despite these recent moves, Mannerström describes the current asylum process in Finland as \"mentally breaking,\" with many Afghans waiting more than six years for a decision. \n",
      " \"This is something that Finland needs to do better. It is obvious that Afghanistan has not been safe for at least the last six years and that there are a lot of people who should have been granted asylum but weren’t,\" she said. \n",
      " Refugee NGO concerned about protection \n",
      " Pia Lindfors , Executive Director of the Refugee Advice Centre (Pakolaisneuvonta) says that simply suspending negative decisions for the time being is not an adequate solution, and that more needs to be done to help vulnerable people. \n",
      " Article continues after photo \n",
      " Pia Lindfors, Executive Director of the Refugee Advice Centre Yle Svenska / Jessica Stoltzmann \n",
      " \"We have never seen anything like this,\" said Lindfors. \"Even before the events of the summer, the never-ending limbo that Afghan asylum seekers are subjected to by Migri and the courts has taken a devastating toll. Some of our clients are really falling apart right now.\" \n",
      " According to Lindfors, her group is not entirely confident that Afghans in Finland will receive the protection and reassurances to which they are entitled. In her view, Migri’s previous actions, based on decisions by previous governments, amounted to \"creating a hostile environment\" to force them to leave. \n",
      " She also says that the tendency of the Finnish system to apply a \"very strict interpretation of the law\" meant that many deserving applicants have been rejected despite being guaranteed protection under UNHCR guidelines. \n",
      " \"Across the whole of the EU, the system is currently failing, even though it looks good on paper,\" said Lindfors. \"The rhetoric we are seeing across the EU right now suggests that the environment towards Afghans will become more hostile in the future, which doesn’t bode well for people who are already here.\" \n",
      " \"They could kill us at any moment\" \n",
      " While asylum seekers in Finland have received some reprieve, those who have already been sent back to Afghanistan face even greater difficulties. \n",
      " \"They could kill us at any moment. I wait up every night for the Taliban to come to our house,\" said  Jamil* , a journalist currently in Kabul with his family, after leaving Finland in 2018 following a negative decision from Migri. \n",
      " In Jamil’s official rejection letter seen by Yle, Migri acknowledged that he could be targeted by the Taliban for his work but concluded that he could be reasonably safe in the capital if he kept a low profile and did not continue openly working as a journalist. Migri also acknowledged in the letter that Jamil’s colleagues and acquaintances had been targeted and even killed by the Taliban, but that this did not constitute a significant enough threat to his own safety to warrant a positive asylum decision. \n",
      " \"Nobody can trust the Taliban; they have already started killing journalists here,\" said Jamil by phone from his home in Kabul. \n",
      " Jamil also described the Finnish evacuation effort as \"surprising,\" saying that he and his peers in Finland had expected the embassy to evacuate tens of thousands of people, as opposed to just over 400. \n",
      " \"We asked for help from Finnish officials during the evacuation and they said that we were not eligible for assistance. Afghanistan is not safe for journalists, and I hope that Migri will correct its mistakes and give me and my family another chance,\" he said. \n",
      " Migri urges people to re-apply for asylum  \n",
      " Antti Lehtinen , Director of Migri's Asylum Unit, told Yle News that anyone from Afghanistan who has received a final negative decision should re-apply now, so that their need for international protection can be re-examined. \n",
      " Article continues after photo \n",
      " A Migri service point (file photo) Antti Aimo-Koivisto / Lehtikuva \n",
      " Lehtinen added that anyone who is undocumented can come forward and re-apply without negative consequences, as \"the situation in Afghanistan has deteriorated rapidly\" in recent months and previous decisions do not apply. \n",
      " Asked whether authorities should have designated Afghanistan as unsafe earlier and stopped deporting people before the summer, Lehtinen replied that Migri \"always uses accurate country of origin information\" provided by agencies such as the European Asylum Support Office (EASO), which plays a major role in the EU’s common refugee policy. \n",
      " He noted that EASO will be releasing revised country guidance information for Afghanistan \"sometime in November\" and that Migri will issue new information for refugees after this. Until then, Migri urges Afghan asylum seekers to be patient. \n",
      " \"Altogether, we have more than 2,600 hundred asylum cases pending at the moment. We have a lot on our plate, so it may take time for everyone to receive their decisions. However, know that we are not issuing negative decisions or removals for Afghans at this point,\" said Lehtinen. \n",
      " Afghans seeking guidance on the updated asylum policies and their rights can find information on the Migri website in  Dari  and  English . Guidance on applying for an Alien Passport is also available  here . \n",
      " *Name changed for safety reasons.\n",
      "Found: Finland, category: LOC, score:0.9998\n",
      "Found: Afghan, category: MISC, score:0.9997\n",
      "Found: Finnish, category: MISC, score:0.9997\n",
      "Found: Kabul, category: LOC, score:0.9998\n",
      "Found: Finnish Immigration Service, category: ORG, score:0.9975\n",
      "Found: Migri, category: ORG, score:0.9904\n",
      "Found: Afghanistan, category: LOC, score:0.9998\n",
      "Found: Finland, category: LOC, score:0.9997\n",
      "Found: Migri, category: ORG, score:0.7261\n",
      "Found: Afghan, category: MISC, score:0.9994\n",
      "Found: Finland, category: LOC, score:0.9998\n",
      "Found: Mu, category: PER, score:0.9994\n",
      "Found: ##nir, category: PER, score:0.9075\n",
      "Found: Finland, category: LOC, score:0.9998\n",
      "Found: Afghanistan, category: LOC, score:0.9998\n",
      "Found: Ghazni Province, category: LOC, score:0.9968\n",
      "Found: Mu, category: PER, score:0.9994\n",
      "Found: ##nir, category: PER, score:0.7605\n",
      "Found: Afghanistan, category: LOC, score:0.9998\n",
      "Found: Taliban, category: ORG, score:0.6073\n",
      "Found: Migri, category: ORG, score:0.4977\n",
      "Found: Afghanistan, category: LOC, score:0.9998\n",
      "Found: Taliban, category: MISC, score:0.9614\n",
      "Found: Yle News, category: ORG, score:0.9976\n",
      "Found: Mu, category: PER, score:0.9990\n",
      "Found: ##nir, category: PER, score:0.4701\n",
      "Found: Mig, category: PER, score:0.7434\n",
      "Found: ##ri, category: PER, score:0.5542\n",
      "Found: Mig, category: PER, score:0.8494\n",
      "Found: Afghan, category: MISC, score:0.9991\n",
      "Found: Helsinki, category: LOC, score:0.9992\n",
      "Found: Te, category: PER, score:0.9993\n",
      "Found: ##rhi Liimu, category: PER, score:0.8717\n",
      "Found: Y, category: PER, score:0.9993\n",
      "Found: ##le Munir, category: PER, score:0.9116\n",
      "Found: Taliban, category: MISC, score:0.8522\n",
      "Found: Kabul, category: LOC, score:0.9998\n",
      "Found: Finland, category: LOC, score:0.9998\n",
      "Found: Covid, category: MISC, score:0.9918\n",
      "Found: 19, category: MISC, score:0.8982\n",
      "Found: Finnish, category: MISC, score:0.9997\n",
      "Found: Abdul, category: PER, score:0.9986\n",
      "Found: Afghan, category: MISC, score:0.9997\n",
      "Found: Finland, category: LOC, score:0.9998\n",
      "Found: Abdul, category: PER, score:0.9991\n",
      "Found: Mig, category: PER, score:0.8524\n",
      "Found: Mig, category: PER, score:0.8683\n",
      "Found: Migri, category: ORG, score:0.7925\n",
      "Found: Afghan, category: MISC, score:0.9998\n",
      "Found: Afghan, category: MISC, score:0.9996\n",
      "Found: Kabul, category: LOC, score:0.9997\n",
      "Found: Abdul, category: PER, score:0.9994\n",
      "Found: Mig, category: PER, score:0.7908\n",
      "Found: ##ri, category: PER, score:0.7512\n",
      "Found: Kat, category: PER, score:0.9996\n",
      "Found: ##ja Mannerström, category: PER, score:0.9621\n",
      "Found: Finnish, category: MISC, score:0.7102\n",
      "Found: Refugee Council, category: ORG, score:0.9198\n",
      "Found: Suomen Pakolaisapu, category: ORG, score:0.9948\n",
      "Found: Taliban, category: MISC, score:0.9518\n",
      "Found: Mann, category: PER, score:0.9963\n",
      "Found: Mig, category: PER, score:0.7572\n",
      "Found: Mig, category: PER, score:0.8697\n",
      "Found: Migri, category: ORG, score:0.8908\n",
      "Found: Alien Passport, category: MISC, score:0.8639\n",
      "Found: Finland, category: LOC, score:0.9997\n",
      "Found: Mann, category: PER, score:0.9993\n",
      "Found: ##erström, category: PER, score:0.4754\n",
      "Found: Finland, category: LOC, score:0.9998\n",
      "Found: Afghan, category: MISC, score:0.9994\n",
      "Found: Finland, category: LOC, score:0.9998\n",
      "Found: Afghanistan, category: LOC, score:0.9998\n",
      "Found: Pi, category: PER, score:0.9994\n",
      "Found: ##a Lindfors, category: PER, score:0.8774\n",
      "Found: Refugee Advice Centre, category: ORG, score:0.9854\n",
      "Found: Pakolaisneuvonta, category: ORG, score:0.9756\n",
      "Found: Pi, category: PER, score:0.9991\n",
      "Found: ##a Lindfors, category: PER, score:0.9594\n",
      "Found: Refugee Advice Centre Yle Svenska, category: ORG, score:0.7873\n",
      "Found: Jessica Stoltzman, category: PER, score:0.9769\n",
      "Found: Lindfo, category: PER, score:0.8124\n",
      "Found: Afghan, category: MISC, score:0.9997\n",
      "Found: Mi, category: PER, score:0.8263\n",
      "Found: Lindfo, category: PER, score:0.6999\n",
      "Found: Afghan, category: MISC, score:0.9995\n",
      "Found: Finland, category: LOC, score:0.9998\n",
      "Found: Mig, category: PER, score:0.8133\n",
      "Found: Finnish, category: MISC, score:0.9998\n",
      "Found: UNHCR, category: ORG, score:0.9981\n",
      "Found: EU, category: ORG, score:0.9947\n",
      "Found: Lin, category: PER, score:0.9963\n",
      "Found: ##fo, category: PER, score:0.7131\n",
      "Found: EU, category: ORG, score:0.9987\n",
      "Found: Afghan, category: MISC, score:0.9994\n",
      "Found: Finland, category: LOC, score:0.9998\n",
      "Found: Afghanistan, category: LOC, score:0.9999\n",
      "Found: Taliban, category: MISC, score:0.9735\n",
      "Found: Jamil, category: PER, score:0.8076\n",
      "Found: Kabul, category: LOC, score:0.9998\n",
      "Found: Finland, category: LOC, score:0.9998\n",
      "Found: Mi, category: PER, score:0.9877\n",
      "Found: ##g, category: PER, score:0.3860\n",
      "Found: Jamil, category: PER, score:0.9595\n",
      "Found: Yle, category: PER, score:0.7928\n",
      "Found: Migri, category: PER, score:0.9278\n",
      "Found: Taliban, category: MISC, score:0.5231\n",
      "Found: Migri, category: PER, score:0.8864\n",
      "Found: Jamil, category: PER, score:0.7452\n",
      "Found: Taliban, category: MISC, score:0.9392\n",
      "Found: Taliban, category: MISC, score:0.9195\n",
      "Found: Jam, category: PER, score:0.9996\n",
      "Found: ##il, category: PER, score:0.7938\n",
      "Found: Kabul, category: LOC, score:0.9997\n",
      "Found: Jamil, category: PER, score:0.7228\n",
      "Found: Finnish, category: MISC, score:0.9998\n",
      "Found: Finland, category: LOC, score:0.9998\n",
      "Found: Finnish, category: MISC, score:0.9998\n",
      "Found: Afghanistan, category: LOC, score:0.9998\n",
      "Found: Mig, category: PER, score:0.7519\n",
      "Found: Migri, category: ORG, score:0.8524\n",
      "Found: An, category: PER, score:0.9994\n",
      "Found: ##tti Lehtinen, category: PER, score:0.9961\n",
      "Found: Migri, category: ORG, score:0.9359\n",
      "Found: Asylum Unit, category: ORG, score:0.9772\n",
      "Found: Yle News, category: ORG, score:0.9983\n",
      "Found: Afghanistan, category: LOC, score:0.9999\n",
      "Found: Mi, category: MISC, score:0.6333\n",
      "Found: An, category: PER, score:0.9980\n",
      "Found: ##tti Aimo, category: PER, score:0.9511\n",
      "Found: Koivist, category: PER, score:0.8000\n",
      "Found: Lehtik, category: PER, score:0.8186\n",
      "Found: ##u, category: PER, score:0.4426\n",
      "Found: Lehtinen, category: PER, score:0.8390\n",
      "Found: Afghanistan, category: LOC, score:0.9998\n",
      "Found: Afghanistan, category: LOC, score:0.9998\n",
      "Found: Lehtinen, category: PER, score:0.9358\n",
      "Found: Migri, category: ORG, score:0.6877\n",
      "Found: European Asylum Support Office, category: ORG, score:0.9991\n",
      "Found: EASO, category: ORG, score:0.9969\n",
      "Found: EU, category: ORG, score:0.9991\n",
      "Found: EASO, category: ORG, score:0.9990\n",
      "Found: Afghanistan, category: LOC, score:0.9999\n",
      "Found: Mig, category: PER, score:0.4865\n",
      "Found: ##ri, category: ORG, score:0.5608\n",
      "Found: Mig, category: PER, score:0.7550\n",
      "Found: Afghan, category: MISC, score:0.9997\n",
      "Found: Afghan, category: MISC, score:0.9994\n",
      "Found: Leht, category: PER, score:0.9371\n",
      "Found: Afghan, category: MISC, score:0.9995\n",
      "Found: Migri, category: ORG, score:0.8723\n",
      "Found: Dar, category: MISC, score:0.8944\n",
      "Found: ##i, category: MISC, score:0.4366\n",
      "Found: English, category: MISC, score:0.9988\n",
      "Found: Alien Passport, category: MISC, score:0.8088\n"
     ]
    }
   ],
   "source": [
    "for i in range(2):\n",
    "    prindex = random.randint(0,1059)\n",
    "    print(data[prindex][\"newsItem\"])\n",
    "    for entity in data[prindex][\"entities\"]:\n",
    "        print(\"Found: \" + entity[\"word\"] + \", category: \" + entity[\"entity_group\"] + \", score:\" \"{:.4f}\".format(entity[\"score\"]))"
   ]
  },
  {
   "cell_type": "markdown",
   "metadata": {},
   "source": [
    "---"
   ]
  },
  {
   "cell_type": "markdown",
   "metadata": {},
   "source": [
    "**Task 3.** Read about the ´aggregation_strategy´ parameter for token classification pipelines (sometimes source code is the best place to get information...). Based on your reading, select a suitable parameter (or in case you run the inference without using pipelines, write a simple function to implement some simple aggregation strategy), run the inference, and collect predicted named entities. What is the most common entity type in your data and what are the most common entities?"
   ]
  },
  {
   "cell_type": "markdown",
   "metadata": {},
   "source": [
    "**On** `aggregation_strategy` **:**\n",
    "\n",
    "Answer written based on the following sources:\n",
    " - https://discuss.huggingface.co/t/ner-tag-aggregation-stratergy/14199\n",
    " - https://github.com/huggingface/transformers/blob/main/src/transformers/pipelines/token_classification.py\n",
    "... And some little experimentation\n",
    "\n",
    "So basically: Aggregation strategies decide how different entities spanning multiple tokens get grouped together. There are technically  5 aggeregation strategies: \"none\", \"simple\", \"first\", \"average\" and \"max\". Basically the important thing to realize: \"none\" doesn't do aggregation, meaning that categories will have the location tag (B- or I-) in them rather than grouping every tag that belongs to the same as one. The rest group the tags together so that each named entity only gets one tag. This is much more simple to understand from outputs so here are some from my experiments fo demonstrate:<br>\n",
    "<br>\n",
    "`pipePrint` output with pipe using `aggregation_strategy=\"none\"`:\n",
    "```\n",
    "One of my classmates, Toby, copied this video and sent it to our class's WhatsApp group, claiming he made it himself.:\n",
    "Found: Toby, category: B-PER, score:0.9990\n",
    "Found: What, category: B-ORG, score:0.9490\n",
    "Found: ##s, category: I-ORG, score:0.9713\n",
    "Found: ##A, category: I-ORG, score:0.9902\n",
    "Found: ##pp, category: I-ORG, score:0.9669\n",
    "```\n",
    "<br>\n",
    "\n",
    "`pipePrint` output with pipe using `aggregation_strategy=\"simple\"`:\n",
    "```\n",
    "One of my classmates, Toby, copied this video and sent it to our class's WhatsApp group, claiming he made it himself.:\n",
    "Found: Toby, category: PER, score:0.9990\n",
    "Found: WhatsApp, category: ORG, score:0.9694\n",
    "```"
   ]
  },
  {
   "cell_type": "markdown",
   "metadata": {},
   "source": [
    "Based on my research & experimentation: I've chosen `aggregation_strategy=\"simple\"` and performed NER on `news-en-2021.jsonl` (Task 2.). The results are saved in `data`"
   ]
  },
  {
   "cell_type": "markdown",
   "metadata": {},
   "source": [
    "Counting entity types:"
   ]
  },
  {
   "cell_type": "code",
   "execution_count": 24,
   "metadata": {},
   "outputs": [
    {
     "name": "stdout",
     "output_type": "stream",
     "text": [
      "All entity categories and their quantities: {'LOC': 9043, 'ORG': 10662, 'PER': 12219, 'MISC': 5761}\n"
     ]
    }
   ],
   "source": [
    "entityTypeCounter = {\"LOC\": 0, \"ORG\":0, \"PER\": 0, \"MISC\": 0}\n",
    "entityCounter = {}\n",
    "\n",
    "# Counting\n",
    "for newsItem in data:\n",
    "    for entity in newsItem[\"entities\"]:\n",
    "        entityTypeCounter[entity[\"entity_group\"]] += 1\n",
    "        if entity[\"word\"] in entityCounter.keys():\n",
    "            entityCounter[entity[\"word\"]] += 1\n",
    "        else:\n",
    "            entityCounter[entity[\"word\"]] = 1\n",
    "\n",
    "# Results\n",
    "print(\"All entity categories and their quantities:\", end=\" \")\n",
    "print(entityTypeCounter)"
   ]
  },
  {
   "cell_type": "code",
   "execution_count": null,
   "metadata": {},
   "outputs": [],
   "source": []
  }
 ],
 "metadata": {
  "kernelspec": {
   "display_name": "Python 3 (ipykernel)",
   "language": "python",
   "name": "python3"
  },
  "language_info": {
   "codemirror_mode": {
    "name": "ipython",
    "version": 3
   },
   "file_extension": ".py",
   "mimetype": "text/x-python",
   "name": "python",
   "nbconvert_exporter": "python",
   "pygments_lexer": "ipython3",
   "version": "3.12.7"
  }
 },
 "nbformat": 4,
 "nbformat_minor": 4
}
